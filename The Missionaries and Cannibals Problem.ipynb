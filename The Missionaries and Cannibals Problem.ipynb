{
 "cells": [
  {
   "cell_type": "code",
   "execution_count": 3,
   "metadata": {},
   "outputs": [],
   "source": [
    "from queue import Queue\n",
    "\n",
    "class node:\n",
    "    def __init__(self,STATE=None,PARENT=None,PATHCOST=0) -> None:\n",
    "        self.state = STATE\n",
    "        self.parent = PARENT\n",
    "        self.pathcost = PATHCOST"
   ]
  },
  {
   "cell_type": "code",
   "execution_count": 4,
   "metadata": {},
   "outputs": [],
   "source": [
    "class CannibalsProblem:\n",
    "\n",
    "    def __init__(self,n:int = 3,k:int = 2) -> None:\n",
    "        self.N = n      ## 修道者数量\n",
    "        self.K = k      ## 船只最大装载量\n",
    "        self.possible_actions = []\n",
    "        self.PosAct()\n",
    "        self.begin_state = [n,n,1]\n",
    "        self.goal_state = [0,0,0]\n",
    "    \n",
    "    \n",
    "    ## 所有可能的 action\n",
    "    def PosAct(self):\n",
    "        for k in range(1,self.K+1):\n",
    "            for i in range(k+1):\n",
    "                self.possible_actions.append([i,k-i])\n",
    "\n",
    "     ## 判断某个 state 经过某个 action 后的结果是否合法\n",
    "    def Is_Legal(self,rs:list)->bool: \n",
    "        if (0<=rs[0]<=self.N and 0<=rs[1]<=self.N) and (rs[0] == rs[1] or rs[0]==0 or rs[0] == self.N):\n",
    "            return True\n",
    "        else:\n",
    "            return False\n",
    "    \n",
    "    ## 状态 state 下的所有合法移动\n",
    "    def Legal_Actions(self, state:list)->list:\n",
    "        Actions = []\n",
    "        if state[2] == 0:\n",
    "            for l in self.possible_actions:\n",
    "                ps = [state[0] + l[0], state[1] + l[1]]\n",
    "                if self.Is_Legal(ps):\n",
    "                    ps.append(1-state[2])\n",
    "                    Actions.append(ps)\n",
    "        else:\n",
    "            for l in self.possible_actions:\n",
    "                ps = [state[0] - l[0], state[1] - l[1]]\n",
    "                if self.Is_Legal(ps):\n",
    "                    ps.append(1-state[2])\n",
    "                    Actions.append(ps)\n",
    "        return Actions\n",
    "    \n",
    "    def Expand(self,NODE:node):\n",
    "        children = []\n",
    "        Actions = self.Legal_Actions(NODE.state)\n",
    "        for a in Actions:\n",
    "            child = node(a,NODE,NODE.pathcost+1)\n",
    "            children.append(child)\n",
    "        return children\n",
    "\n",
    "    def BFS_SEARCH(self):\n",
    "        Q = Queue()\n",
    "        begin_node = node(self.begin_state)\n",
    "        Q.put(begin_node)\n",
    "\n",
    "        while not Q.empty():\n",
    "            x = Q.get()\n",
    "            if x.state == self.goal_state:\n",
    "                self.reuslt = x \n",
    "                break\n",
    "            else:\n",
    "                children = self.Expand(x)\n",
    "                for child in children:\n",
    "                    Q.put(child)\n",
    "        S = []\n",
    "        while x is not None:\n",
    "            S.append(x.state)\n",
    "            x = x.parent\n",
    "        S.reverse()\n",
    "        self.path = S\n",
    "        \n",
    "    def PrintSeries(self):\n",
    "        for s in self.path:\n",
    "            print(s)\n",
    "            \n",
    "    \n",
    "    def PrintPath(self):\n",
    "        for i in range(len(self.path)):\n",
    "                print(self.path[i][0],\",\",self.path[i][1],\"  ----  \",self.N-self.path[i][0],\",\",self.N-self.path[i][1])"
   ]
  },
  {
   "cell_type": "code",
   "execution_count": 5,
   "metadata": {},
   "outputs": [
    {
     "name": "stdout",
     "output_type": "stream",
     "text": [
      "3 , 3   ----   0 , 0\n",
      "3 , 1   ----   0 , 2\n",
      "3 , 2   ----   0 , 1\n",
      "3 , 0   ----   0 , 3\n",
      "3 , 1   ----   0 , 2\n",
      "1 , 1   ----   2 , 2\n",
      "2 , 2   ----   1 , 1\n",
      "0 , 2   ----   3 , 1\n",
      "0 , 3   ----   3 , 0\n",
      "0 , 1   ----   3 , 2\n",
      "0 , 2   ----   3 , 1\n",
      "0 , 0   ----   3 , 3\n"
     ]
    }
   ],
   "source": [
    "c = CannibalsProblem(3,2)\n",
    "c.BFS_SEARCH()\n",
    "c.PrintPath()"
   ]
  },
  {
   "cell_type": "code",
   "execution_count": null,
   "metadata": {},
   "outputs": [],
   "source": []
  }
 ],
 "metadata": {
  "kernelspec": {
   "display_name": "Python 3.8.10 64-bit",
   "language": "python",
   "name": "python3"
  },
  "language_info": {
   "codemirror_mode": {
    "name": "ipython",
    "version": 3
   },
   "file_extension": ".py",
   "mimetype": "text/x-python",
   "name": "python",
   "nbconvert_exporter": "python",
   "pygments_lexer": "ipython3",
   "version": "3.8.10"
  },
  "orig_nbformat": 4,
  "vscode": {
   "interpreter": {
    "hash": "ffbfc792e496a15b6b750fac43e7a9afdc7c26545a7abda9dc172ad3cb978227"
   }
  }
 },
 "nbformat": 4,
 "nbformat_minor": 2
}
